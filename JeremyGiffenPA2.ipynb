{
 "cells": [
  {
   "cell_type": "markdown",
   "id": "dc15c4e3",
   "metadata": {},
   "source": [
    "# Programming Assignment 2\n",
    "## Jeremy Giffen\n",
    "### CS-150-01\n",
    "### Dr Sayani Sarkar"
   ]
  },
  {
   "cell_type": "markdown",
   "id": "c25c3d99",
   "metadata": {},
   "source": [
    "# Task 1"
   ]
  },
  {
   "cell_type": "code",
   "execution_count": 6,
   "id": "3d8464d1",
   "metadata": {},
   "outputs": [
    {
     "name": "stdout",
     "output_type": "stream",
     "text": [
      "My name is Jeremy, I am 20 years old, I am 187 cm tall, and my favorite color is red.\n"
     ]
    }
   ],
   "source": [
    "name=\"Jeremy\"\n",
    "age=\"20\"\n",
    "height=\"187\"\n",
    "color=\"red\"\n",
    "print(f\"My name is {name}, I am {age} years old, I am {height} cm tall, and my favorite color is {color}.\")\n"
   ]
  },
  {
   "cell_type": "markdown",
   "id": "0c4c0882",
   "metadata": {},
   "source": [
    "# Task 2"
   ]
  },
  {
   "cell_type": "code",
   "execution_count": 15,
   "id": "c91ce57f",
   "metadata": {},
   "outputs": [
    {
     "name": "stdout",
     "output_type": "stream",
     "text": [
      "The temperature is 32°C, which is 89.6°F.\n"
     ]
    }
   ],
   "source": [
    "celsius_temp=\"32\"\n",
    "(32*9/5+32)\n",
    "F_temp=\"89.6\"\n",
    "print(f\"The temperature is {celsius_temp}°C, which is {F_temp}°F.\")"
   ]
  },
  {
   "cell_type": "markdown",
   "id": "013fe66d",
   "metadata": {},
   "source": [
    "# Task 3"
   ]
  },
  {
   "cell_type": "code",
   "execution_count": 30,
   "id": "8e7c6574",
   "metadata": {},
   "outputs": [
    {
     "name": "stdout",
     "output_type": "stream",
     "text": [
      "5\n",
      "1\n",
      "6\n",
      "1.5\n"
     ]
    }
   ],
   "source": [
    "num1=3\n",
    "num2=2\n",
    "addition=num1+num2\n",
    "print(addition)\n",
    "Subtraction=num1-num2\n",
    "print(Subtraction)\n",
    "Multiplication=num1*num2\n",
    "print(Multiplication)\n",
    "Division=num1/num2\n",
    "print(Division)"
   ]
  },
  {
   "cell_type": "markdown",
   "id": "dfc9026e",
   "metadata": {},
   "source": [
    "# Task 4"
   ]
  },
  {
   "cell_type": "code",
   "execution_count": 31,
   "id": "ae0d5ff2",
   "metadata": {},
   "outputs": [],
   "source": [
    "_x0=\"all that glitters is not gold\""
   ]
  },
  {
   "cell_type": "code",
   "execution_count": 38,
   "id": "445b6e48",
   "metadata": {},
   "outputs": [
    {
     "data": {
      "text/plain": [
       "29"
      ]
     },
     "execution_count": 38,
     "metadata": {},
     "output_type": "execute_result"
    }
   ],
   "source": [
    "len(_x0)"
   ]
  },
  {
   "cell_type": "code",
   "execution_count": 39,
   "id": "843b7066",
   "metadata": {},
   "outputs": [
    {
     "name": "stdout",
     "output_type": "stream",
     "text": [
      "ALL THAT GLITTERS IS NOT GOLD\n"
     ]
    }
   ],
   "source": [
    "print(_x0.upper())"
   ]
  },
  {
   "cell_type": "code",
   "execution_count": 40,
   "id": "0cc45953",
   "metadata": {},
   "outputs": [
    {
     "name": "stdout",
     "output_type": "stream",
     "text": [
      "all that glitters is not gold\n"
     ]
    }
   ],
   "source": [
    "print(_x0.lower())"
   ]
  },
  {
   "cell_type": "code",
   "execution_count": 41,
   "id": "489a790b",
   "metadata": {},
   "outputs": [
    {
     "name": "stdout",
     "output_type": "stream",
     "text": [
      "all \n",
      "that \n",
      "glitters \n",
      "is \n",
      "not \n",
      "gold\n"
     ]
    }
   ],
   "source": [
    "print(\"all \\nthat \\nglitters \\nis \\nnot \\ngold\")"
   ]
  },
  {
   "cell_type": "code",
   "execution_count": 42,
   "id": "646ac4b4",
   "metadata": {},
   "outputs": [
    {
     "name": "stdout",
     "output_type": "stream",
     "text": [
      "all \tthat \tglitters \tis \tnot \tgold\n"
     ]
    }
   ],
   "source": [
    "print(\"all \\tthat \\tglitters \\tis \\tnot \\tgold\")"
   ]
  },
  {
   "cell_type": "markdown",
   "id": "523b96ff",
   "metadata": {},
   "source": [
    "# Task 5"
   ]
  },
  {
   "cell_type": "code",
   "execution_count": 52,
   "id": "58b625c8",
   "metadata": {},
   "outputs": [
    {
     "name": "stdout",
     "output_type": "stream",
     "text": [
      "Enter an integer: 2\n",
      "Enter a second integer: 3\n",
      "The first number 2. The second number 3.0.\n",
      "The addition result is : 5.0\n",
      "The subtraction result is : -1.0\n",
      "The multiplication result is : 6.0\n",
      "The division result is : 6.0\n"
     ]
    }
   ],
   "source": [
    "number1= int(input(\"Enter an integer: \"))\n",
    "number2= float(input(\"Enter a second integer: \"))\n",
    "print(f\"The first number {number1}. The second number {number2}.\")\n",
    "print(f\"The addition result is : {number1+number2}\")\n",
    "print(f\"The subtraction result is : {number1-number2}\")\n",
    "print(f\"The multiplication result is : {number1*number2}\")\n",
    "print(f\"The division result is : {number1*number2}\")"
   ]
  },
  {
   "cell_type": "code",
   "execution_count": null,
   "id": "90bd3336",
   "metadata": {},
   "outputs": [],
   "source": []
  }
 ],
 "metadata": {
  "kernelspec": {
   "display_name": "Python 3 (ipykernel)",
   "language": "python",
   "name": "python3"
  },
  "language_info": {
   "codemirror_mode": {
    "name": "ipython",
    "version": 3
   },
   "file_extension": ".py",
   "mimetype": "text/x-python",
   "name": "python",
   "nbconvert_exporter": "python",
   "pygments_lexer": "ipython3",
   "version": "3.11.4"
  }
 },
 "nbformat": 4,
 "nbformat_minor": 5
}
